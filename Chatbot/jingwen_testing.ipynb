{
 "cells": [
  {
   "cell_type": "code",
   "execution_count": 1,
   "id": "aeadc7a8-f637-4f4c-bbcd-49539510f266",
   "metadata": {},
   "outputs": [],
   "source": [
    "# JW Testing Notebook"
   ]
  },
  {
   "cell_type": "code",
   "execution_count": 1,
   "id": "909b391d-176d-4314-b396-4323a106cc31",
   "metadata": {},
   "outputs": [
    {
     "name": "stdout",
     "output_type": "stream",
     "text": [
      "Requirement already satisfied: elasticsearch in /opt/app-root/lib64/python3.11/site-packages (8.10.0)\n",
      "Requirement already satisfied: elastic-transport<9,>=8 in /opt/app-root/lib64/python3.11/site-packages (from elasticsearch) (8.17.1)\n",
      "Requirement already satisfied: urllib3<3,>=1.26.2 in /opt/app-root/lib64/python3.11/site-packages (from elastic-transport<9,>=8->elasticsearch) (1.26.20)\n",
      "Requirement already satisfied: certifi in /opt/app-root/lib64/python3.11/site-packages (from elastic-transport<9,>=8->elasticsearch) (2025.1.31)\n",
      "\n",
      "\u001b[1m[\u001b[0m\u001b[34;49mnotice\u001b[0m\u001b[1;39;49m]\u001b[0m\u001b[39;49m A new release of pip is available: \u001b[0m\u001b[31;49m24.2\u001b[0m\u001b[39;49m -> \u001b[0m\u001b[32;49m25.0.1\u001b[0m\n",
      "\u001b[1m[\u001b[0m\u001b[34;49mnotice\u001b[0m\u001b[1;39;49m]\u001b[0m\u001b[39;49m To update, run: \u001b[0m\u001b[32;49mpip install --upgrade pip\u001b[0m\n"
     ]
    }
   ],
   "source": [
    "!pip install elasticsearch \n",
    "from elasticsearch import Elasticsearch, helpers\n",
    "from elasticsearch.helpers import bulk"
   ]
  },
  {
   "cell_type": "code",
   "execution_count": 10,
   "id": "daf3276e-3509-44e8-9fda-ebbbd9a9c5bc",
   "metadata": {},
   "outputs": [
    {
     "name": "stdout",
     "output_type": "stream",
     "text": [
      "{\n",
      "  \"name\" : \"elasticsearch-sample-es-default-1\",\n",
      "  \"cluster_name\" : \"elasticsearch-sample\",\n",
      "  \"cluster_uuid\" : \"nr3Sh4ArQcqFm90rHd5Smw\",\n",
      "  \"version\" : {\n",
      "    \"number\" : \"8.17.0\",\n",
      "    \"build_flavor\" : \"default\",\n",
      "    \"build_type\" : \"docker\",\n",
      "    \"build_hash\" : \"2b6a7fed44faa321997703718f07ee0420804b41\",\n",
      "    \"build_date\" : \"2024-12-11T12:08:05.663969764Z\",\n",
      "    \"build_snapshot\" : false,\n",
      "    \"lucene_version\" : \"9.12.0\",\n",
      "    \"minimum_wire_compatibility_version\" : \"7.17.0\",\n",
      "    \"minimum_index_compatibility_version\" : \"7.0.0\"\n",
      "  },\n",
      "  \"tagline\" : \"You Know, for Search\"\n",
      "}\n"
     ]
    }
   ],
   "source": [
    "!curl -u elastic:1rdzVXU8i8F9T8hs1p6c78d6 -k https://elasticsearch-sample-elasticsearch.apps.rosa-t59w8.oufo.p1.openshiftapps.com"
   ]
  },
  {
   "cell_type": "code",
   "execution_count": 14,
   "id": "afb6d538-9c8e-4d8b-afb2-c6edf6c3fb71",
   "metadata": {},
   "outputs": [
    {
     "name": "stdout",
     "output_type": "stream",
     "text": [
      "Name: elasticsearch\n",
      "Version: 8.10.0\n",
      "Summary: Python client for Elasticsearch\n",
      "Home-page: https://github.com/elastic/elasticsearch-py\n",
      "Author: Elastic Client Library Maintainers\n",
      "Author-email: client-libs@elastic.co\n",
      "License: Apache-2.0\n",
      "Location: /opt/app-root/lib64/python3.11/site-packages\n",
      "Requires: elastic-transport\n",
      "Required-by: \n"
     ]
    }
   ],
   "source": [
    "!pip show elasticsearch"
   ]
  },
  {
   "cell_type": "code",
   "execution_count": 5,
   "id": "4d0de13b-2b5f-4e72-a5ca-683354535bb8",
   "metadata": {},
   "outputs": [
    {
     "name": "stdout",
     "output_type": "stream",
     "text": [
      "{'type': 'dense_vector', 'dims': 384, 'index': True, 'similarity': 'cosine', 'index_options': {'type': 'int8_hnsw', 'm': 16, 'ef_construction': 100}}\n"
     ]
    },
    {
     "name": "stderr",
     "output_type": "stream",
     "text": [
      "/opt/app-root/lib64/python3.11/site-packages/urllib3/connectionpool.py:1064: InsecureRequestWarning: Unverified HTTPS request is being made to host 'elasticsearch-sample-elasticsearch.apps.rosa-t59w8.oufo.p1.openshiftapps.com'. Adding certificate verification is strongly advised. See: https://urllib3.readthedocs.io/en/1.26.x/advanced-usage.html#ssl-warnings\n",
      "  warnings.warn(\n"
     ]
    }
   ],
   "source": [
    "# using secrets\n",
    "\n",
    "import os\n",
    "\n",
    "es_user = os.environ.get(\"elastic_user\")\n",
    "es_password = os.environ.get(\"elastic_password\")\n",
    "\n",
    "\n",
    "es = Elasticsearch(\n",
    "    hosts=[\"https://elasticsearch-sample-elasticsearch.apps.rosa-t59w8.oufo.p1.openshiftapps.com\"], \n",
    "    basic_auth=(es_user, es_password), \n",
    "    verify_certs=False\n",
    ")\n",
    "\n",
    "mapping = es.indices.get_mapping(index=\"helpdesk-embeddings\")\n",
    "print(mapping[\"helpdesk-embeddings\"][\"mappings\"][\"properties\"].get(\"embedding\", \"Field not found\"))"
   ]
  },
  {
   "cell_type": "code",
   "execution_count": 7,
   "id": "920169a5-b283-49ca-b048-41dcbbcdcc17",
   "metadata": {},
   "outputs": [
    {
     "name": "stdout",
     "output_type": "stream",
     "text": [
      "                                                                                                                                                                                                                                                                                                                                                                                                                                                                                                                                                                                                                                                                                                                                                                                                                                                                                                                                                                                                                                                                                                                                                                                                                    issue_body\n",
      "0                                                                                                                                                                                                                                                                                                                                                                                                                                                                                                                                                                                                                                                                                                                        Hey, Say I add an image in my article, giving it a _relative_ address, like `content/my_image.jpg`. My article has a category `category`. It works well in the root directory, but since the articles also appear in the categories, the relative address which was `content/my_image.jpg` is now translated in `category/content/my_image.jpg`. I see one solution, using the site address to handle these kind of relative addresses: we simply prefix the relative address with the SITEURL value.\n",
      "7                                                                                                                                                                                                                                                                                                                                                                                                                                                                                                                                                                                                                                                                                                                                                                                                                                                                                                                                                                                                                                                                                if you render 5 templates deep, and that template throws an error currently express seems to try and next() each time, causing obvious issues\n",
      "11                                                                                                                                                                                                                                                                                                               I have an app which is using connect.vhost to redirect to a few express servers and after updating express I noticed an issue with view being read from the wrong server. My setup is something like this: vhosts.js a/server.js a/views/index.js a/views/athing.js b/server.js b/views/index.js b/views/bthing.js Where vhosts.js is a simple connect server, running through cluster with these vhosts: - a.example.com -> a/server.js - b.example.com -> b/server.js I guess the problem is that both servers have a view like \"./views/index.js\". It seems it attempts to render the view of the server that was visited first, no matter which one of the servers you visit, which causes a crash because both servers don't use the same locals and well, it's just the wrong view being rendered. Could it be that the cache is not using an absolute path for the views? And it used to before 2.2.1?\n",
      "15                                                                                                                   Hello, There is a problem with the Pelican's license: According to [this page](<link> _«a copyright notice»_ and _«a statement of copying permission»_ must be present in the header of **all** files of Pelican, like this: ``` #!/usr/bin/env python # -*- coding: utf-8 -*- # # # Copyright (c) 20XX-2011 XXXXXX XXXXXXX # # This file is part of Pelican. # # Pelican is free software: you can redistribute it and/or modify # it under the terms of the GNU Affero General Public License as published by # the Free Software Foundation, either version 3 of the License, or # (at your option) any later version. # # Pelican is distributed in the hope that it will be useful, # but WITHOUT ANY WARRANTY; without even the implied warranty of # MERCHANTABILITY or FITNESS FOR A PARTICULAR PURPOSE. See the # GNU Affero General Public License for more details. # # You should have received a copy of the GNU Affero General Public License # along with Pelican. If not, see <<link> # ``` But this text is only present in the `LICENSE` file, instead of the [complete license](<link>\n",
      "17                                                                                                                                                                                                                                                                                                                                                                                                                                                                                                                                                                                                                                                                                                                                                                                                                                                                                                                                                                       Hi, I'm just about to migrate to pelican and for the start I'd likt to use the \"notmyidea\" theme. But the \"Other Articles\" section at the bottom of the index page looks a bit strange: <link> Is it really supposed to look like this? Cheers brejoc\n",
      "23                                                                                                                                                                                                                                                                                                                                                                                                                                                                                                                                                                                                                                                                                                                                                                                                                       Hi, I'm trying pelican (which is exactly what I need) but I can't get it work with code snippets, when I try to generate : ``` :date: 2011-06-03 14:21 :title: test :tags: hello :slug: hi Hello .. code-block:: python3 def hello(): pass ``` I get the following error : ``` ./hello.rst:8: (ERROR/3) Unknown directive type \"code-block\". .. code-block:: python3 def hello(): pass ``` Any idea ?\n",
      "30                                                                                                                                                                                                                                                                                                                                                                                                                                                                                                                                                                                                                                                                                                                                                                                                                                          The page about **data types** <link> mentions that _A String value can be at max 512 Megabytes in length._, but on the page **A fifteen minute introduction to Redis data types** <link> says: _Values can be strings (including binary data) of every kind, for instance you can store a jpeg image inside a key. A value can't be bigger than 1 Gigabyte._ which one is correct?\n",
      "33                                                                                                                                                                                                                                                                                                                                                                                                                                                                                                                                                                                                                                                                                                                                                                                                                                                                                                                                                                                                                                                                                    I'd love support for additional Markdown file extensions. The most common seem to be .markdown and .mdown, but .txt would also be great.\n",
      "38                                                                                                                                                                                                                                                                                                                                                                                                                                                                                                                                                                                                                                       SET in pelican.conf.py: `STATIC_PATHS = [\"images\",]` Post a post with: `![ALT-Description](images/a-image-file.jpg)` In the post the image links to: _<link> your-site.com/static/images/a-image-file.jpg_ The output is correct and the image show in entrys, archives, etc. **Working as intended**. NOW do the same in a PAGE file: Create in /pages/ a page file for example `about.md` with a image using same code: `![ALT-Description](images/a-image-file.jpg)` Now in the page the image links to: _<link> your-site.com/**pages/**static/images/a-image-file.jpg_ Is a bug?\n",
      "43                                                                                                                                                                                                                                                                                                                                                                                                                                                                                                                                                                                                                                                                                                                                                                                                                                   When I create a post using Pelican, images appear fine in the generated article, but in the associated feed, the url is incorrect. For example, the image tag will have a source path: ``` src=\"static/images/image.jpg\" ``` whereas the feed will have the path: ``` src=\"<link> ``` Note that the `static` directory was dropped from the second path. Am I doing something wrong here?\n",
      "53                                                                                                                                                                                                                                                                                                                                                                                                                                                                                                         As of commit bc7c8c1 from pull request , it seems that files listed in the FILES_TO_COPY setting are not copied to the output directory. _Steps to reproduce:_ 1. Put a robots.txt file in content/extra/ and set FILES_TO_COPY = (('extra/robots.txt', 'robots.txt'),) 2. Run \"pelican -s pelican.conf.py\" 3. Look for \"robots.txt\" in output directory. _Expected result:_ \"robots.txt\" present in output directory. _Observed result:_ \"robots.txt\" is **not** present in output directory. Ideally, the committed fix would also include a test that ensures files are being copied successfully, particularly since the sample content already includes an \"extra\" file at `samples/content/extra/robots.txt`.\n",
      "55                                                                                                                                                                                                                                                                                                                                                                                                                                                                                                                                                                                                                                                                                                                                                                                                                                                                                                                                                                                                                                       If someone requests a changeset feed for a user that doesn't exist, the feed should give an HTTP 404. It currently seems to give a valid feed for the user that edited most recently.\n",
      "63                                                                                                                                                                                                                                                                                                                                                                                                                                                                                                                                                                                                                                                                                                                                                                                                                                                         Please allow content creators to define the cutoff/truncation point for summaries. This would allow for a cleaner break at the end of a sentence or paragraph, as opposed to the current system which appears arbitrary with respect to the content. EDIT: To clarify, the cutoff is optionally defined in each article, for context-sensitive summary breakpoints.\n",
      "69                                                                                                                                                                                                                                                                                                                                                                                                                                                                                                                                                                                                                                                                                                                                                                                                                                                                                                                                                                                   Express 2.5.9 using `app.all(string, function)`. The route: `\":ids(x(y|z)+)\"` incorrectly compiles to: `/^(?:(x(y|z))+)\\/?$/i` The plus operator should be applied to only `(y|z)`, but the operator applies to `x(y|z)` in its entirety.\n",
      "73                                                                                                                                                                                                                                                                                                                                                                                                                                                                                                                                                                                                                                                                                                                                           This is loosely related to . If the SITEURL is not defined as a fully qualified URL, the resulting Atom feed is not valid according to the feed validator. line 2, column 198: id must be a full and valid URL: .././ [help] ... en.atom.xml\" rel=\"self\"></link><id>.././</id><updated>2012-04-22T19:48:4 ... As you can see the ID is just a relative something and not an URL. First I thought that setting FEED_DOMAIN gets rid of this issue but that is not the case either.\n",
      "79                                                                                                                                                                                                                                                                                                                                                                                                                                                                                                                                                                                                                                                                                                                                                                                                                                                                                    In Rest, you can include emoticons images by using substitutions: Example: ``` This is a |smile| symbol ``` This is doable if you add a definition for that image somewhere in the rest ``` .. |smile| image:: smile.png ``` Proposal : include a library of emoticons images, we can use in our blog posts I don't know about MD though\n",
      "81                                                                                                                                                                                                                                                                                                                                                                                                                                                                                                                                                                                                                                                                                                                                                                                                                                                                                                                                                                                                                 I'm not sure if this is resolved in but when I pull a fresh repo and run tests I get the following error in test_direct_templates_save_as_default: No handlers could be found for logger \"pelican.contents\"\n",
      "91                                                                                                                                                                                                                                                                                                                                                                                                                                                                                                                                                                                                                                               Right now it seems that if I accidentally define the same slug, one of the articles arbitrarily wins and may (depending on my ARTICLE_\\* settings) overwrite some other article. Ideally I would like the ability to see an error in that case as a safety check to avoid accidentally blowing away content when I publish. Currently there's a warning for overlapping slugs in utils.process_translations, but I would like the ability for an error and non-zero exit status when overwriting other content to handle aborting in an automated publish script more easily.\n",
      "94                                                                                                                                                                                                                                                                                                                                                                                                                                                                                                                                                                                                                                                                                                                                                                                                                                                                                                                                                                                                                     As far as I can tell, there's not currently a way to add next / previous links to article pages? I think this would be extremely useful! Unfortunately I don't have the skill to fork and do it myself.\n",
      "101                                                                                                                                                                                                                                                                                                                                                                                                                                                                                                                                                                                                                                                                                                           All brew installations of: PACKAGES='git optipng jpeg-turbo phantomjs' Are using: sudo brew install $1 Howerver, this fails with the following errors: ``` Error: Cowardly refusing to `sudo brew install' You can use brew with sudo, but only if the brew executable is owned by root. However, this is both not recommended and completely unsupported so do so at your own risk. ``` (retcode is not tested). This is simply fixed by removing the sudo from the install.sh script. (I hope it makes sense).\n",
      "108                                                                                                                                                                                                                                                                                                                                                  run the following: ``` yeoman init (use AMD support) yeoman install backbone yeoman install jquery ``` The main.js (the config file for require.js) now has duplicate entires for previously installed libraries). See below: ``` paths: { backbone: '../../components/backbone/backbone', jquery: '../../components/jquery/jquery', underscore: '../../components/underscore/underscore', backbone: '../../components/backbone/backbone', // Duplicates from yeoman install backbone underscore: '../../components/underscore/underscore', // Duplicates from yeoman install backbone jquery: 'vendor/jquery.min' // Should be remove manually } ``` Also should the default generator include jQuery via bower or have a different copy? I think you would want to use bower to manage all packages by default. Or it could be a question in the init script/generator.\n",
      "114  Initialized blank yeoman folder with RequireJS configuration. Installed backbone via ``` yeoman install backbone ``` bower successfully installed backbone in the \"components\" folder, downloaded referenced component for underscore, and put it in the same folder. Also it copied backbone.js to the scripts/vendor folder and modified main.js and added paths for backbone and underscore in format ``` 'backbone' : '../../components/backbone' ``` The problem is when I run ``` yeoman server ``` files under components folder are not accessible. I suppose, it would be reasonable to choose consistent way to manage components. The simplest way is to place them inside the \"scripts/vendor\" folder. Another option is to copy them to \"scripts/vendor\" folder, like you do with backbone.js file, but in this case you need to consider what to do with dependencies and updating components, because underscore.js is not copied to \"scripts/vendor\" and has to be copied manually. Also, running ``` yeoman init bbb ``` generates all the dependencies under the \"scripts/libs\" folder and generates correct configuration for require.js. This problem is more about consistent guidelines, I suppose.\n",
      "117                                                                                                                                                                                                                                                                                                                                                                                                                                                                                                                                                                                                                                                                                                                                                                                                                                                                                                                                                                                                                                                                                                   Written as below yeoman init angularjs:controller controllerName Should be yeoman init angular:controller controllerName\n",
      "121                                                                                                                                                                                                                                                                                                                                                                                                                                                                                                                                                                                                                                                                                                                                                                                                                                                                       When I pull the Yeoman project down, and run `npm test`. Yeoman can't make it past the second test without failing. Primarily because the stdout isn't what yeoman is expecting but to me it looks like yeoman is in fact working the functional sense. Should all the tests be passing? How can contributors know whether or not Yeoman is working!\n",
      "126                                                                                                                                                                                                                                                                                                                                                                                                                                                                                                                                                                                                                                                                                                                                                                                                                                                                                                                        Is it possible to make yeoman server listen in an alternative port? Our workflow is based on a common dev machine and we would need to have our own server each. Right now we're using apache virtual document roots, but yeoman looks perfect for our needs if we could use a different port each.\n"
     ]
    }
   ],
   "source": [
    "import pandas as pd\n",
    "\n",
    "# Load your CSV\n",
    "df = pd.read_csv('cleaned_helpdesk_data.csv')  # replace with your actual filename\n",
    "\n",
    "# Drop duplicate issue_id (keep the first occurrence)\n",
    "distinct_issues = df.drop_duplicates(subset=['issue_id'])\n",
    "\n",
    "# Select only the columns you want to display\n",
    "# result = distinct_issues[['issue_id', 'issue_body']]\n",
    "result = distinct_issues[['issue_body']]\n",
    "\n",
    "pd.set_option('display.max_colwidth', None)\n",
    "# Display the top 25 rows\n",
    "print(result.head(25))"
   ]
  },
  {
   "cell_type": "code",
   "execution_count": null,
   "id": "380c5f93-259f-4175-9f9b-c2401e1d56ef",
   "metadata": {},
   "outputs": [],
   "source": []
  }
 ],
 "metadata": {
  "kernelspec": {
   "display_name": "Python 3.11",
   "language": "python",
   "name": "python3"
  },
  "language_info": {
   "codemirror_mode": {
    "name": "ipython",
    "version": 3
   },
   "file_extension": ".py",
   "mimetype": "text/x-python",
   "name": "python",
   "nbconvert_exporter": "python",
   "pygments_lexer": "ipython3",
   "version": "3.11.9"
  }
 },
 "nbformat": 4,
 "nbformat_minor": 5
}
